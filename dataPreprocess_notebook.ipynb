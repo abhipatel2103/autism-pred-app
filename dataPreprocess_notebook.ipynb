{
 "cells": [
  {
   "cell_type": "markdown",
   "id": "e6776bf1",
   "metadata": {},
   "source": [
    "### Data Preprocessing using FunctionTransformers, ColumnTransformers and Pipeline"
   ]
  },
  {
   "cell_type": "markdown",
   "id": "faa88fd9",
   "metadata": {},
   "source": [
    "* After inferring required preprocessing steps in `\"dataExploration.ipnyb\"` script, preprocessing is implemented in this script.\n",
    "* Used ***FunctionTransformer*** to convert custom functions into Transformers\n",
    "* Used ***ColumnTransformer*** to perform multiple transforming steps on different columns of dataset.\n",
    "* Created ***Pipeline*** to merge all the preprocessing steps and to reuse this pipeline in predictions"
   ]
  },
  {
   "cell_type": "markdown",
   "id": "e25cec7c",
   "metadata": {},
   "source": [
    "**Predict whether a person has autism or not; using other dependent variables (Features)**\n",
    "\n",
    "\n",
    "* `ID` - ID of the patient\n",
    "* `A1_Score to A10_Score` - Score based on Autism Spectrum Quotient (AQ) 10 item screening tool\n",
    "* `age` - Age of the patient in years\n",
    "* `gender` - Gender of the patient\n",
    "* `ethnicity` - Ethnicity of the patient\n",
    "* `jaundice` - Whether the patient had jaundice at the time of birth\n",
    "* `autism` - Whether an immediate family member has been diagnosed with autism\n",
    "* `contry_of_res` - Country of residence of the patient\n",
    "* `used_app_before` - Whether the patient has undergone a screening test before\n",
    "* `result` - Score for AQ1-10 screening test\n",
    "* `age_desc` - Age of the patient\n",
    "* `relation` - Relation of patient who completed the test\n",
    "* `Class/ASD` - Classified result as 0 or 1. Here 0 represents No and 1 represents Yes. This is the target column"
   ]
  },
  {
   "cell_type": "code",
   "execution_count": 1,
   "id": "4df2cb33",
   "metadata": {},
   "outputs": [],
   "source": [
    "#Imported required libraries\n",
    "try:\n",
    "    import pandas as pd\n",
    "    import numpy as np\n",
    "    import matplotlib.pyplot as plt\n",
    "    import seaborn as sns\n",
    "    import os\n",
    "    from sklearn.compose import ColumnTransformer\n",
    "    from sklearn.preprocessing import FunctionTransformer,MinMaxScaler, OneHotEncoder\n",
    "    from sklearn.pipeline import Pipeline\n",
    "    import pickle\n",
    "\n",
    "except ModuleNotFoundError as err:\n",
    "    print('Package/Module not found in dataPreprocess.py file' )"
   ]
  },
  {
   "cell_type": "code",
   "execution_count": 2,
   "id": "c5e90cce",
   "metadata": {},
   "outputs": [],
   "source": [
    "# Function to load dataset into dataframe\n",
    "\n",
    "def load_data(filename):\n",
    "    \n",
    "    \n",
    "    try:\n",
    "        #full_path = os.path.join(path, filename)\n",
    "        return pd.read_csv(filename)\n",
    "    \n",
    "    except FileNotFoundError as err:\n",
    "        print('Input data file is not found in dataExploration.py file')\n",
    "        print(err)\n",
    "        \n",
    "    except:\n",
    "        print('Isse when loading input CSV data in dataExploration.py file')      \n",
    "\n",
    "\n",
    "df_train = load_data('train.csv')"
   ]
  },
  {
   "cell_type": "code",
   "execution_count": 3,
   "id": "4d614877",
   "metadata": {},
   "outputs": [
    {
     "data": {
      "text/html": [
       "<div>\n",
       "<style scoped>\n",
       "    .dataframe tbody tr th:only-of-type {\n",
       "        vertical-align: middle;\n",
       "    }\n",
       "\n",
       "    .dataframe tbody tr th {\n",
       "        vertical-align: top;\n",
       "    }\n",
       "\n",
       "    .dataframe thead th {\n",
       "        text-align: right;\n",
       "    }\n",
       "</style>\n",
       "<table border=\"1\" class=\"dataframe\">\n",
       "  <thead>\n",
       "    <tr style=\"text-align: right;\">\n",
       "      <th></th>\n",
       "      <th>ID</th>\n",
       "      <th>A1_Score</th>\n",
       "      <th>A2_Score</th>\n",
       "      <th>A3_Score</th>\n",
       "      <th>A4_Score</th>\n",
       "      <th>A5_Score</th>\n",
       "      <th>A6_Score</th>\n",
       "      <th>A7_Score</th>\n",
       "      <th>A8_Score</th>\n",
       "      <th>A9_Score</th>\n",
       "      <th>...</th>\n",
       "      <th>gender</th>\n",
       "      <th>ethnicity</th>\n",
       "      <th>jaundice</th>\n",
       "      <th>austim</th>\n",
       "      <th>contry_of_res</th>\n",
       "      <th>used_app_before</th>\n",
       "      <th>result</th>\n",
       "      <th>age_desc</th>\n",
       "      <th>relation</th>\n",
       "      <th>Class/ASD</th>\n",
       "    </tr>\n",
       "  </thead>\n",
       "  <tbody>\n",
       "    <tr>\n",
       "      <th>0</th>\n",
       "      <td>1</td>\n",
       "      <td>1</td>\n",
       "      <td>0</td>\n",
       "      <td>1</td>\n",
       "      <td>0</td>\n",
       "      <td>1</td>\n",
       "      <td>0</td>\n",
       "      <td>1</td>\n",
       "      <td>0</td>\n",
       "      <td>1</td>\n",
       "      <td>...</td>\n",
       "      <td>f</td>\n",
       "      <td>?</td>\n",
       "      <td>no</td>\n",
       "      <td>no</td>\n",
       "      <td>Austria</td>\n",
       "      <td>no</td>\n",
       "      <td>6.351166</td>\n",
       "      <td>18 and more</td>\n",
       "      <td>Self</td>\n",
       "      <td>0</td>\n",
       "    </tr>\n",
       "    <tr>\n",
       "      <th>1</th>\n",
       "      <td>2</td>\n",
       "      <td>0</td>\n",
       "      <td>0</td>\n",
       "      <td>0</td>\n",
       "      <td>0</td>\n",
       "      <td>0</td>\n",
       "      <td>0</td>\n",
       "      <td>0</td>\n",
       "      <td>0</td>\n",
       "      <td>0</td>\n",
       "      <td>...</td>\n",
       "      <td>m</td>\n",
       "      <td>?</td>\n",
       "      <td>no</td>\n",
       "      <td>no</td>\n",
       "      <td>India</td>\n",
       "      <td>no</td>\n",
       "      <td>2.255185</td>\n",
       "      <td>18 and more</td>\n",
       "      <td>Self</td>\n",
       "      <td>0</td>\n",
       "    </tr>\n",
       "    <tr>\n",
       "      <th>2</th>\n",
       "      <td>3</td>\n",
       "      <td>1</td>\n",
       "      <td>1</td>\n",
       "      <td>1</td>\n",
       "      <td>1</td>\n",
       "      <td>1</td>\n",
       "      <td>1</td>\n",
       "      <td>1</td>\n",
       "      <td>1</td>\n",
       "      <td>1</td>\n",
       "      <td>...</td>\n",
       "      <td>m</td>\n",
       "      <td>White-European</td>\n",
       "      <td>no</td>\n",
       "      <td>yes</td>\n",
       "      <td>United States</td>\n",
       "      <td>no</td>\n",
       "      <td>14.851484</td>\n",
       "      <td>18 and more</td>\n",
       "      <td>Self</td>\n",
       "      <td>1</td>\n",
       "    </tr>\n",
       "    <tr>\n",
       "      <th>3</th>\n",
       "      <td>4</td>\n",
       "      <td>0</td>\n",
       "      <td>0</td>\n",
       "      <td>0</td>\n",
       "      <td>0</td>\n",
       "      <td>0</td>\n",
       "      <td>0</td>\n",
       "      <td>0</td>\n",
       "      <td>0</td>\n",
       "      <td>0</td>\n",
       "      <td>...</td>\n",
       "      <td>f</td>\n",
       "      <td>?</td>\n",
       "      <td>no</td>\n",
       "      <td>no</td>\n",
       "      <td>United States</td>\n",
       "      <td>no</td>\n",
       "      <td>2.276617</td>\n",
       "      <td>18 and more</td>\n",
       "      <td>Self</td>\n",
       "      <td>0</td>\n",
       "    </tr>\n",
       "    <tr>\n",
       "      <th>4</th>\n",
       "      <td>5</td>\n",
       "      <td>0</td>\n",
       "      <td>0</td>\n",
       "      <td>0</td>\n",
       "      <td>0</td>\n",
       "      <td>0</td>\n",
       "      <td>0</td>\n",
       "      <td>0</td>\n",
       "      <td>0</td>\n",
       "      <td>0</td>\n",
       "      <td>...</td>\n",
       "      <td>m</td>\n",
       "      <td>?</td>\n",
       "      <td>no</td>\n",
       "      <td>no</td>\n",
       "      <td>South Africa</td>\n",
       "      <td>no</td>\n",
       "      <td>-4.777286</td>\n",
       "      <td>18 and more</td>\n",
       "      <td>Self</td>\n",
       "      <td>0</td>\n",
       "    </tr>\n",
       "  </tbody>\n",
       "</table>\n",
       "<p>5 rows × 22 columns</p>\n",
       "</div>"
      ],
      "text/plain": [
       "   ID  A1_Score  A2_Score  A3_Score  A4_Score  A5_Score  A6_Score  A7_Score  \\\n",
       "0   1         1         0         1         0         1         0         1   \n",
       "1   2         0         0         0         0         0         0         0   \n",
       "2   3         1         1         1         1         1         1         1   \n",
       "3   4         0         0         0         0         0         0         0   \n",
       "4   5         0         0         0         0         0         0         0   \n",
       "\n",
       "   A8_Score  A9_Score  ...  gender       ethnicity jaundice austim  \\\n",
       "0         0         1  ...       f               ?       no     no   \n",
       "1         0         0  ...       m               ?       no     no   \n",
       "2         1         1  ...       m  White-European       no    yes   \n",
       "3         0         0  ...       f               ?       no     no   \n",
       "4         0         0  ...       m               ?       no     no   \n",
       "\n",
       "   contry_of_res used_app_before     result     age_desc  relation Class/ASD  \n",
       "0        Austria              no   6.351166  18 and more      Self         0  \n",
       "1          India              no   2.255185  18 and more      Self         0  \n",
       "2  United States              no  14.851484  18 and more      Self         1  \n",
       "3  United States              no   2.276617  18 and more      Self         0  \n",
       "4   South Africa              no  -4.777286  18 and more      Self         0  \n",
       "\n",
       "[5 rows x 22 columns]"
      ]
     },
     "execution_count": 3,
     "metadata": {},
     "output_type": "execute_result"
    }
   ],
   "source": [
    "df_train.head()"
   ]
  },
  {
   "cell_type": "code",
   "execution_count": 4,
   "id": "1b7e6685",
   "metadata": {},
   "outputs": [],
   "source": [
    "# 'age_desc' column has only one value - ['18 and more']\n",
    "# 'ID' column has all unique values and acting like an index. Hence, it can be removed\n",
    "\n",
    "df_train.drop(['ID','age_desc'], axis=1, inplace= True)"
   ]
  },
  {
   "cell_type": "markdown",
   "id": "00ef4763",
   "metadata": {},
   "source": [
    "### Spliting features and labels"
   ]
  },
  {
   "cell_type": "code",
   "execution_count": 5,
   "id": "7da8ec5b",
   "metadata": {},
   "outputs": [
    {
     "data": {
      "text/plain": [
       "((800, 19), (800,))"
      ]
     },
     "execution_count": 5,
     "metadata": {},
     "output_type": "execute_result"
    }
   ],
   "source": [
    "target = df_train.pop('Class/ASD')\n",
    "df_train.shape, target.shape"
   ]
  },
  {
   "cell_type": "markdown",
   "id": "3aee5849",
   "metadata": {},
   "source": [
    "### Design of pre-processing steps\n",
    "\n",
    "* Created 3 FunctionTransfomers from custom function for following preprocessing steps:\n",
    "        1) Handle outliers 2) Handle unkown/missing values 3) Handle rare occurring countries\n",
    "\n",
    "* Created 2 ColumnTransformers to implement following preprocessing steps\n",
    "        1) ColumnTransformer-1 = To include above mentioned 3 FunctionTransformers\n",
    "        2) ColumnTransformer-2 = To implement OneHotEncoding and Scaling\n",
    "        \n",
    "* Create 1 Piepline to merge above mentioned two ColumnTransformers"
   ]
  },
  {
   "cell_type": "markdown",
   "id": "af300600",
   "metadata": {},
   "source": [
    "### Handling Outliers for continuous columns"
   ]
  },
  {
   "cell_type": "markdown",
   "id": "58f0c5c0",
   "metadata": {},
   "source": [
    "Two continuous columns in the data - *Age Column* & *Result Column*"
   ]
  },
  {
   "cell_type": "code",
   "execution_count": 6,
   "id": "213aede0",
   "metadata": {},
   "outputs": [],
   "source": [
    "class OutliersHandling:\n",
    "    \n",
    "    def calculate_tail(self, col):\n",
    "        \n",
    "        ''' \n",
    "        Considering a value as outlier if it is lower than lower_tail and greater than upper tail. \n",
    "        Therefore, this function calculated lower and upper tail of given column\n",
    "\n",
    "        '''\n",
    "        try:\n",
    "            q1 = col.quantile(0.25) #Lower Quartile\n",
    "            q3 = col.quantile(0.75) #Upper Quartile\n",
    "            iqr = q3 - q1                          #Calculating Inter Quartile Range (IQR)\n",
    "            upper_tail = q3 + 1.5 * iqr\n",
    "            lower_tail = q1 - 1.5 * iqr\n",
    "            return float(upper_tail), float(lower_tail)\n",
    "        \n",
    "        except Exception as err:\n",
    "            print('Issue in Calculate_tail function of OutliersHandling class')\n",
    "            print(err)\n",
    "\n",
    "    def check_outliers(self,col):\n",
    "        ''' Check total number of outliers in given continuous column'''\n",
    "        try:\n",
    "            n = 0\n",
    "            upper_tail, lower_tail = self.calculate_tail(col)\n",
    "\n",
    "            # Considering a value as outlier if it is lower than lower_tail and greater than upper tail\n",
    "            for val in col:\n",
    "                if val > upper_tail or val < lower_tail:\n",
    "                       n = n+1\n",
    "\n",
    "            print(f'Total number of outliers in the {col.name} column: ',n)\n",
    "        \n",
    "        except Exception as err:\n",
    "            print('Issue in check_outliers function of OutliersHandling class')\n",
    "            print(err)\n",
    "\n",
    "        \n",
    "    def handle_outliers(self, df):\n",
    "        ''' Replacing lower outliers with 10th percentile and upper outliers with 90th percentile '''\n",
    "        try:\n",
    "            for x in df.columns:\n",
    "\n",
    "                upper_tail, lower_tail = self.calculate_tail(df[x]) #Calling function to calculate lower and upper tail\n",
    "\n",
    "                for i in df[x].values:\n",
    "                    if i > upper_tail or i < lower_tail:\n",
    "                        if i < lower_tail:\n",
    "                            df[x].replace(i,df[x].quantile(0.10), inplace= True)\n",
    "                        else:\n",
    "                            df[x].replace(i,df[x].quantile(0.90), inplace= True)\n",
    "            return df\n",
    "\n",
    "        except Exception as err:\n",
    "            print('Issue in Calculate_tail function of OutliersHandling class')\n",
    "            print(err)\n",
    "\n",
    "outhandle_obj = OutliersHandling() # Creating Object of the class\n"
   ]
  },
  {
   "cell_type": "markdown",
   "id": "59353f4d",
   "metadata": {},
   "source": [
    "***Checking Outliers***"
   ]
  },
  {
   "cell_type": "code",
   "execution_count": 7,
   "id": "ff7f38b2",
   "metadata": {},
   "outputs": [
    {
     "name": "stdout",
     "output_type": "stream",
     "text": [
      "Total number of outliers in the age column:  35\n"
     ]
    },
    {
     "data": {
      "image/png": "[encoded data removed]",
      "text/plain": [
       "<Figure size 432x288 with 1 Axes>"
      ]
     },
     "metadata": {
      "needs_background": "light"
     },
     "output_type": "display_data"
    }
   ],
   "source": [
    "outhandle_obj.check_outliers(df_train['age'])\n",
    "\n",
    "# Creating boxplot for visualization\n",
    "sns.boxplot(x= 'age', data= df_train)\n",
    "plt.title(f'Age column before handling outliers')\n",
    "plt.show()"
   ]
  },
  {
   "cell_type": "code",
   "execution_count": 8,
   "id": "a1014896",
   "metadata": {},
   "outputs": [
    {
     "name": "stdout",
     "output_type": "stream",
     "text": [
      "Total number of outliers in the result column:  1\n"
     ]
    },
    {
     "data": {
      "image/png": "[encoded data removed]",
      "text/plain": [
       "<Figure size 432x288 with 1 Axes>"
      ]
     },
     "metadata": {
      "needs_background": "light"
     },
     "output_type": "display_data"
    }
   ],
   "source": [
    "outhandle_obj.check_outliers(df_train['result'])\n",
    "\n",
    "# Creating boxplot for visualization\n",
    "sns.boxplot(x= 'result', data= df_train)\n",
    "plt.title(f'result column before handling outliers')\n",
    "plt.show()"
   ]
  },
  {
   "cell_type": "markdown",
   "id": "143c2c1e",
   "metadata": {},
   "source": [
    "### Handling Missing/unkown Values"
   ]
  },
  {
   "cell_type": "markdown",
   "id": "65fdf3a7",
   "metadata": {},
   "source": [
    "Two columns has unkown values - *ethnicity* & *relation*"
   ]
  },
  {
   "cell_type": "code",
   "execution_count": 9,
   "id": "e5b27b76",
   "metadata": {},
   "outputs": [
    {
     "data": {
      "text/plain": [
       "White-European     257\n",
       "?                  203\n",
       "Middle Eastern      97\n",
       "Asian               67\n",
       "Black               47\n",
       "South Asian         34\n",
       "Pasifika            32\n",
       "Others              29\n",
       "Latino              17\n",
       "Hispanic             9\n",
       "Turkish              5\n",
       "others               3\n",
       "Name: ethnicity, dtype: int64"
      ]
     },
     "execution_count": 9,
     "metadata": {},
     "output_type": "execute_result"
    }
   ],
   "source": [
    "df_train['ethnicity'].value_counts()"
   ]
  },
  {
   "cell_type": "code",
   "execution_count": 10,
   "id": "b90a597c",
   "metadata": {},
   "outputs": [
    {
     "data": {
      "text/plain": [
       "Self                        709\n",
       "?                            40\n",
       "Parent                       29\n",
       "Relative                     18\n",
       "Others                        2\n",
       "Health care professional      2\n",
       "Name: relation, dtype: int64"
      ]
     },
     "execution_count": 10,
     "metadata": {},
     "output_type": "execute_result"
    }
   ],
   "source": [
    "df_train['relation'].value_counts()"
   ]
  },
  {
   "cell_type": "markdown",
   "id": "c71e86c2",
   "metadata": {},
   "source": [
    "**⬆️ Ethnicity and relation columns has '?' and 'others' values which seems to be unkown**"
   ]
  },
  {
   "cell_type": "markdown",
   "id": "234d2cce",
   "metadata": {},
   "source": [
    "#### Transformation on country_of_res column"
   ]
  },
  {
   "cell_type": "code",
   "execution_count": 11,
   "id": "1472456f",
   "metadata": {},
   "outputs": [
    {
     "data": {
      "text/plain": [
       "United States           134\n",
       "India                   108\n",
       "New Zealand              78\n",
       "United Kingdom           67\n",
       "Jordan                   55\n",
       "United Arab Emirates     40\n",
       "Australia                37\n",
       "Canada                   30\n",
       "Afghanistan              22\n",
       "Netherlands              20\n",
       "Austria                  18\n",
       "Sri Lanka                17\n",
       "Brazil                   12\n",
       "Spain                    10\n",
       "France                   10\n",
       "Kazakhstan               10\n",
       "Ireland                   9\n",
       "Iran                      8\n",
       "Russia                    7\n",
       "South Africa              6\n",
       "Italy                     6\n",
       "Bahamas                   6\n",
       "Malaysia                  6\n",
       "Viet Nam                  5\n",
       "Pakistan                  4\n",
       "China                     4\n",
       "Mexico                    4\n",
       "Nicaragua                 4\n",
       "Armenia                   4\n",
       "Azerbaijan                4\n",
       "Iraq                      4\n",
       "Aruba                     4\n",
       "Saudi Arabia              4\n",
       "AmericanSamoa             4\n",
       "Bolivia                   3\n",
       "Serbia                    3\n",
       "Ethiopia                  3\n",
       "Iceland                   3\n",
       "Germany                   3\n",
       "Ukraine                   3\n",
       "Niger                     3\n",
       "Cyprus                    2\n",
       "Sweden                    2\n",
       "Oman                      2\n",
       "Belgium                   1\n",
       "Romania                   1\n",
       "Burundi                   1\n",
       "Czech Republic            1\n",
       "Egypt                     1\n",
       "Angola                    1\n",
       "Sierra Leone              1\n",
       "Japan                     1\n",
       "Argentina                 1\n",
       "Tonga                     1\n",
       "Hong Kong                 1\n",
       "Bangladesh                1\n",
       "Name: contry_of_res, dtype: int64"
      ]
     },
     "execution_count": 11,
     "metadata": {},
     "output_type": "execute_result"
    }
   ],
   "source": [
    "df_train['contry_of_res'].value_counts()"
   ]
  },
  {
   "cell_type": "markdown",
   "id": "5b7d4574",
   "metadata": {},
   "source": [
    "Merging coutnries which are occurring less then 6 times into 'Other' category."
   ]
  },
  {
   "cell_type": "code",
   "execution_count": 12,
   "id": "6debe758",
   "metadata": {},
   "outputs": [
    {
     "name": "stdout",
     "output_type": "stream",
     "text": [
      "['Viet Nam', 'Pakistan', 'China', 'Mexico', 'Nicaragua', 'Armenia', 'Azerbaijan', 'Iraq', 'Aruba', 'Saudi Arabia', 'AmericanSamoa', 'Bolivia', 'Serbia', 'Ethiopia', 'Iceland', 'Germany', 'Ukraine', 'Niger', 'Cyprus', 'Sweden', 'Oman', 'Belgium', 'Romania', 'Burundi', 'Czech Republic', 'Egypt', 'Angola', 'Sierra Leone', 'Japan', 'Argentina', 'Tonga', 'Hong Kong', 'Bangladesh']\n"
     ]
    }
   ],
   "source": [
    "occ = df_train['contry_of_res'].value_counts()\n",
    "\n",
    "rare_country = [con for con in occ.index if occ[con]<6]\n",
    "print(rare_country)"
   ]
  },
  {
   "cell_type": "code",
   "execution_count": 13,
   "id": "60b01667",
   "metadata": {},
   "outputs": [],
   "source": [
    "class MissingValHandling:\n",
    "    \n",
    "    def handle_missing_values(self, df):\n",
    "        '''Replacing (\"?\" and \"others\") -> \"Others\" '''\n",
    "        try:\n",
    "            for col in df.columns:\n",
    "                df[col].replace(['?','others'],['Others','Others'], inplace= True)\n",
    "            return df\n",
    "        \n",
    "        except Exception as err:\n",
    "            print('Issue in handle_missing_values function of MissingValHandling Class ')\n",
    "            print(err)\n",
    "\n",
    "    def merging_rare_counties(self, df):\n",
    "        ''' \n",
    "        This function is specially for \"Country_of_res\" column.\n",
    "        Some countries are occuring less than 6 times and converting all of them into one category \"Others\"\n",
    "        '''\n",
    "        try:\n",
    "            for col in df.columns:\n",
    "                df[col].replace(rare_country, 'Others', inplace= True)\n",
    "            return df\n",
    "        \n",
    "        except Exception as err:\n",
    "            print('Issue in merging_rare_counties function of MissingValHandling Class ')\n",
    "            print(err)\n",
    "\n",
    "\n",
    "missval_obj = MissingValHandling()"
   ]
  },
  {
   "cell_type": "code",
   "execution_count": 14,
   "id": "04f53cc8",
   "metadata": {},
   "outputs": [],
   "source": [
    "# This configuration is necessary to plot design of pipeline while fitting Pipeline \n",
    "from sklearn import set_config\n",
    "\n",
    "set_config(display='diagram')"
   ]
  },
  {
   "cell_type": "markdown",
   "id": "8e60e854",
   "metadata": {},
   "source": [
    "#### Column Transformer 1"
   ]
  },
  {
   "cell_type": "code",
   "execution_count": 15,
   "id": "01a75072",
   "metadata": {},
   "outputs": [],
   "source": [
    "'''\n",
    "* Created ColumnTransformer consisting 3 FunctionTransformers. \n",
    "* These FunctionTransformers are converting Custom Function into Transformers\n",
    "\n",
    "* FunctionTransformer-1 = It is handling outliers of two continuous columns - (age and reult) using \n",
    "    handle_outliers() function of OutliersHandling Class\n",
    "\n",
    "* FunctionTransformer-2 = It is handling Missing values of two categorical columns - (ethnicity and relation) using\n",
    "    handle_missing_values function of MissingValHandling Class\n",
    "\n",
    "* FunctionTransformer-3 = It is converting rare countries into 'Other' category - using \n",
    "    merging_rare_counties function of MissingValHandling Class\n",
    "'''\n",
    "try:\n",
    "    col_trans_1 = ColumnTransformer([\n",
    "        ('outlier', FunctionTransformer(func=outhandle_obj.handle_outliers),['age','result']),\n",
    "        ('miss_val', FunctionTransformer(func=missval_obj.handle_missing_values),['ethnicity','relation']),\n",
    "        ('rare_contry', FunctionTransformer(func=missval_obj.merging_rare_counties),['contry_of_res']),\n",
    "\n",
    "    ], remainder= 'passthrough')\n",
    "    \n",
    "except ModuleNotFoundError as err:\n",
    "    print('FunctionTransformer or ColumnTransformer are not found')\n",
    "except Exception as err:\n",
    "    print('Issue while building ColumnTransformer-1')\n",
    "    print(err)"
   ]
  },
  {
   "cell_type": "markdown",
   "id": "7b57a87d",
   "metadata": {},
   "source": [
    "#### Column Transformer 2"
   ]
  },
  {
   "cell_type": "code",
   "execution_count": 16,
   "id": "7d1cc699",
   "metadata": {},
   "outputs": [],
   "source": [
    "'''\n",
    "* Created ColumnTransformer consisting 2 Transformers\n",
    "\n",
    "* MinMaxScaler = Scaling values of two continuous columns -(age and result)\n",
    "\n",
    "* OneHotEncoder = Applying encoding on remaining categorical columns\n",
    "\n",
    "'''\n",
    "\n",
    "try:\n",
    "    col_trans_2 = ColumnTransformer([\n",
    "        ('scaler',MinMaxScaler(),[0,1]),\n",
    "        ('encoder', OneHotEncoder(handle_unknown = 'ignore', drop= 'first'), (slice(2,19))),\n",
    "\n",
    "    ], remainder='passthrough')\n",
    "\n",
    "except ModuleNotFoundError as err:\n",
    "    print('FunctionTransformer or ColumnTransformer are not found')\n",
    "except Exception as err:\n",
    "    print('Issue while building ColumnTransformer-2')\n",
    "    print(err)"
   ]
  },
  {
   "cell_type": "markdown",
   "id": "854b878a",
   "metadata": {},
   "source": [
    "#### Pipeline"
   ]
  },
  {
   "cell_type": "code",
   "execution_count": 17,
   "id": "8b4e1b32",
   "metadata": {},
   "outputs": [],
   "source": [
    "'''\n",
    "Created Pipeline that includes both ColumnTransformers constructed above. Pipeline consists all preprocessing steps\n",
    "'''\n",
    "try:\n",
    "    pipe = Pipeline([\n",
    "        ('col_trans_1', col_trans_1),\n",
    "        ('col_trans_2', col_trans_2)\n",
    "    ])\n",
    "\n",
    "except ModuleNotFoundError as err:\n",
    "    print('Pipeline not found')\n",
    "except Exception as err:\n",
    "    print('Issue while building Pipeline')\n",
    "    print(err)"
   ]
  },
  {
   "cell_type": "code",
   "execution_count": 18,
   "id": "9193d269",
   "metadata": {},
   "outputs": [
    {
     "data": {
      "text/html": [
       "<style>#sk-0c483c1d-c3d3-4a8b-b46d-61f4bc74131a {color: black;background-color: white;}#sk-0c483c1d-c3d3-4a8b-b46d-61f4bc74131a pre{padding: 0;}#sk-0c483c1d-c3d3-4a8b-b46d-61f4bc74131a div.sk-toggleable {background-color: white;}#sk-0c483c1d-c3d3-4a8b-b46d-61f4bc74131a label.sk-toggleable__label {cursor: pointer;display: block;width: 100%;margin-bottom: 0;padding: 0.3em;box-sizing: border-box;text-align: center;}#sk-0c483c1d-c3d3-4a8b-b46d-61f4bc74131a label.sk-toggleable__label-arrow:before {content: \"▸\";float: left;margin-right: 0.25em;color: #696969;}#sk-0c483c1d-c3d3-4a8b-b46d-61f4bc74131a label.sk-toggleable__label-arrow:hover:before {color: black;}#sk-0c483c1d-c3d3-4a8b-b46d-61f4bc74131a div.sk-estimator:hover label.sk-toggleable__label-arrow:before {color: black;}#sk-0c483c1d-c3d3-4a8b-b46d-61f4bc74131a div.sk-toggleable__content {max-height: 0;max-width: 0;overflow: hidden;text-align: left;background-color: #f0f8ff;}#sk-0c483c1d-c3d3-4a8b-b46d-61f4bc74131a div.sk-toggleable__content pre {margin: 0.2em;color: black;border-radius: 0.25em;background-color: #f0f8ff;}#sk-0c483c1d-c3d3-4a8b-b46d-61f4bc74131a input.sk-toggleable__control:checked~div.sk-toggleable__content {max-height: 200px;max-width: 100%;overflow: auto;}#sk-0c483c1d-c3d3-4a8b-b46d-61f4bc74131a input.sk-toggleable__control:checked~label.sk-toggleable__label-arrow:before {content: \"▾\";}#sk-0c483c1d-c3d3-4a8b-b46d-61f4bc74131a div.sk-estimator input.sk-toggleable__control:checked~label.sk-toggleable__label {background-color: #d4ebff;}#sk-0c483c1d-c3d3-4a8b-b46d-61f4bc74131a div.sk-label input.sk-toggleable__control:checked~label.sk-toggleable__label {background-color: #d4ebff;}#sk-0c483c1d-c3d3-4a8b-b46d-61f4bc74131a input.sk-hidden--visually {border: 0;clip: rect(1px 1px 1px 1px);clip: rect(1px, 1px, 1px, 1px);height: 1px;margin: -1px;overflow: hidden;padding: 0;position: absolute;width: 1px;}#sk-0c483c1d-c3d3-4a8b-b46d-61f4bc74131a div.sk-estimator {font-family: monospace;background-color: #f0f8ff;border: 1px dotted black;border-radius: 0.25em;box-sizing: border-box;margin-bottom: 0.5em;}#sk-0c483c1d-c3d3-4a8b-b46d-61f4bc74131a div.sk-estimator:hover {background-color: #d4ebff;}#sk-0c483c1d-c3d3-4a8b-b46d-61f4bc74131a div.sk-parallel-item::after {content: \"\";width: 100%;border-bottom: 1px solid gray;flex-grow: 1;}#sk-0c483c1d-c3d3-4a8b-b46d-61f4bc74131a div.sk-label:hover label.sk-toggleable__label {background-color: #d4ebff;}#sk-0c483c1d-c3d3-4a8b-b46d-61f4bc74131a div.sk-serial::before {content: \"\";position: absolute;border-left: 1px solid gray;box-sizing: border-box;top: 2em;bottom: 0;left: 50%;}#sk-0c483c1d-c3d3-4a8b-b46d-61f4bc74131a div.sk-serial {display: flex;flex-direction: column;align-items: center;background-color: white;padding-right: 0.2em;padding-left: 0.2em;}#sk-0c483c1d-c3d3-4a8b-b46d-61f4bc74131a div.sk-item {z-index: 1;}#sk-0c483c1d-c3d3-4a8b-b46d-61f4bc74131a div.sk-parallel {display: flex;align-items: stretch;justify-content: center;background-color: white;}#sk-0c483c1d-c3d3-4a8b-b46d-61f4bc74131a div.sk-parallel::before {content: \"\";position: absolute;border-left: 1px solid gray;box-sizing: border-box;top: 2em;bottom: 0;left: 50%;}#sk-0c483c1d-c3d3-4a8b-b46d-61f4bc74131a div.sk-parallel-item {display: flex;flex-direction: column;position: relative;background-color: white;}#sk-0c483c1d-c3d3-4a8b-b46d-61f4bc74131a div.sk-parallel-item:first-child::after {align-self: flex-end;width: 50%;}#sk-0c483c1d-c3d3-4a8b-b46d-61f4bc74131a div.sk-parallel-item:last-child::after {align-self: flex-start;width: 50%;}#sk-0c483c1d-c3d3-4a8b-b46d-61f4bc74131a div.sk-parallel-item:only-child::after {width: 0;}#sk-0c483c1d-c3d3-4a8b-b46d-61f4bc74131a div.sk-dashed-wrapped {border: 1px dashed gray;margin: 0 0.4em 0.5em 0.4em;box-sizing: border-box;padding-bottom: 0.4em;background-color: white;position: relative;}#sk-0c483c1d-c3d3-4a8b-b46d-61f4bc74131a div.sk-label label {font-family: monospace;font-weight: bold;background-color: white;display: inline-block;line-height: 1.2em;}#sk-0c483c1d-c3d3-4a8b-b46d-61f4bc74131a div.sk-label-container {position: relative;z-index: 2;text-align: center;}#sk-0c483c1d-c3d3-4a8b-b46d-61f4bc74131a div.sk-container {/* jupyter's `normalize.less` sets `[hidden] { display: none; }` but bootstrap.min.css set `[hidden] { display: none !important; }` so we also need the `!important` here to be able to override the default hidden behavior on the sphinx rendered scikit-learn.org. See: https://github.com/scikit-learn/scikit-learn/issues/21755 */display: inline-block !important;position: relative;}#sk-0c483c1d-c3d3-4a8b-b46d-61f4bc74131a div.sk-text-repr-fallback {display: none;}</style><div id=\"sk-0c483c1d-c3d3-4a8b-b46d-61f4bc74131a\" class=\"sk-top-container\"><div class=\"sk-text-repr-fallback\"><pre>Pipeline(steps=[(&#x27;col_trans_1&#x27;,\n",
       "                 ColumnTransformer(remainder=&#x27;passthrough&#x27;,\n",
       "                                   transformers=[(&#x27;outlier&#x27;,\n",
       "                                                  FunctionTransformer(func=&lt;bound method OutliersHandling.handle_outliers of &lt;__main__.OutliersHandling object at 0x000001D8BCF71220&gt;&gt;),\n",
       "                                                  [&#x27;age&#x27;, &#x27;result&#x27;]),\n",
       "                                                 (&#x27;miss_val&#x27;,\n",
       "                                                  FunctionTransformer(func=&lt;bound method MissingValHandling.handle_missing_values of &lt;__main__.Missin...\n",
       "                                                 (&#x27;rare_contry&#x27;,\n",
       "                                                  FunctionTransformer(func=&lt;bound method MissingValHandling.merging_rare_counties of &lt;__main__.MissingValHandling object at 0x000001D8BD7B1C70&gt;&gt;),\n",
       "                                                  [&#x27;contry_of_res&#x27;])])),\n",
       "                (&#x27;col_trans_2&#x27;,\n",
       "                 ColumnTransformer(remainder=&#x27;passthrough&#x27;,\n",
       "                                   transformers=[(&#x27;scaler&#x27;, MinMaxScaler(),\n",
       "                                                  [0, 1]),\n",
       "                                                 (&#x27;encoder&#x27;,\n",
       "                                                  OneHotEncoder(drop=&#x27;first&#x27;,\n",
       "                                                                handle_unknown=&#x27;ignore&#x27;),\n",
       "                                                  slice(2, 19, None))]))])</pre><b>Please rerun this cell to show the HTML repr or trust the notebook.</b></div><div class=\"sk-container\" hidden><div class=\"sk-item sk-dashed-wrapped\"><div class=\"sk-label-container\"><div class=\"sk-label sk-toggleable\"><input class=\"sk-toggleable__control sk-hidden--visually\" id=\"eeaee5c9-cb6c-4276-abff-89174d372bba\" type=\"checkbox\" ><label for=\"eeaee5c9-cb6c-4276-abff-89174d372bba\" class=\"sk-toggleable__label sk-toggleable__label-arrow\">Pipeline</label><div class=\"sk-toggleable__content\"><pre>Pipeline(steps=[(&#x27;col_trans_1&#x27;,\n",
       "                 ColumnTransformer(remainder=&#x27;passthrough&#x27;,\n",
       "                                   transformers=[(&#x27;outlier&#x27;,\n",
       "                                                  FunctionTransformer(func=&lt;bound method OutliersHandling.handle_outliers of &lt;__main__.OutliersHandling object at 0x000001D8BCF71220&gt;&gt;),\n",
       "                                                  [&#x27;age&#x27;, &#x27;result&#x27;]),\n",
       "                                                 (&#x27;miss_val&#x27;,\n",
       "                                                  FunctionTransformer(func=&lt;bound method MissingValHandling.handle_missing_values of &lt;__main__.Missin...\n",
       "                                                 (&#x27;rare_contry&#x27;,\n",
       "                                                  FunctionTransformer(func=&lt;bound method MissingValHandling.merging_rare_counties of &lt;__main__.MissingValHandling object at 0x000001D8BD7B1C70&gt;&gt;),\n",
       "                                                  [&#x27;contry_of_res&#x27;])])),\n",
       "                (&#x27;col_trans_2&#x27;,\n",
       "                 ColumnTransformer(remainder=&#x27;passthrough&#x27;,\n",
       "                                   transformers=[(&#x27;scaler&#x27;, MinMaxScaler(),\n",
       "                                                  [0, 1]),\n",
       "                                                 (&#x27;encoder&#x27;,\n",
       "                                                  OneHotEncoder(drop=&#x27;first&#x27;,\n",
       "                                                                handle_unknown=&#x27;ignore&#x27;),\n",
       "                                                  slice(2, 19, None))]))])</pre></div></div></div><div class=\"sk-serial\"><div class=\"sk-item sk-dashed-wrapped\"><div class=\"sk-label-container\"><div class=\"sk-label sk-toggleable\"><input class=\"sk-toggleable__control sk-hidden--visually\" id=\"c6a0116c-01ac-46bf-b584-e1c205f85aa5\" type=\"checkbox\" ><label for=\"c6a0116c-01ac-46bf-b584-e1c205f85aa5\" class=\"sk-toggleable__label sk-toggleable__label-arrow\">col_trans_1: ColumnTransformer</label><div class=\"sk-toggleable__content\"><pre>ColumnTransformer(remainder=&#x27;passthrough&#x27;,\n",
       "                  transformers=[(&#x27;outlier&#x27;,\n",
       "                                 FunctionTransformer(func=&lt;bound method OutliersHandling.handle_outliers of &lt;__main__.OutliersHandling object at 0x000001D8BCF71220&gt;&gt;),\n",
       "                                 [&#x27;age&#x27;, &#x27;result&#x27;]),\n",
       "                                (&#x27;miss_val&#x27;,\n",
       "                                 FunctionTransformer(func=&lt;bound method MissingValHandling.handle_missing_values of &lt;__main__.MissingValHandling object at 0x000001D8BD7B1C70&gt;&gt;),\n",
       "                                 [&#x27;ethnicity&#x27;, &#x27;relation&#x27;]),\n",
       "                                (&#x27;rare_contry&#x27;,\n",
       "                                 FunctionTransformer(func=&lt;bound method MissingValHandling.merging_rare_counties of &lt;__main__.MissingValHandling object at 0x000001D8BD7B1C70&gt;&gt;),\n",
       "                                 [&#x27;contry_of_res&#x27;])])</pre></div></div></div><div class=\"sk-parallel\"><div class=\"sk-parallel-item\"><div class=\"sk-item\"><div class=\"sk-label-container\"><div class=\"sk-label sk-toggleable\"><input class=\"sk-toggleable__control sk-hidden--visually\" id=\"f6892dea-266a-410c-98ee-9ef49a0b0868\" type=\"checkbox\" ><label for=\"f6892dea-266a-410c-98ee-9ef49a0b0868\" class=\"sk-toggleable__label sk-toggleable__label-arrow\">outlier</label><div class=\"sk-toggleable__content\"><pre>[&#x27;age&#x27;, &#x27;result&#x27;]</pre></div></div></div><div class=\"sk-serial\"><div class=\"sk-item\"><div class=\"sk-estimator sk-toggleable\"><input class=\"sk-toggleable__control sk-hidden--visually\" id=\"ae5b1407-3f9f-4186-bf53-dbec6c9e2d2c\" type=\"checkbox\" ><label for=\"ae5b1407-3f9f-4186-bf53-dbec6c9e2d2c\" class=\"sk-toggleable__label sk-toggleable__label-arrow\">FunctionTransformer</label><div class=\"sk-toggleable__content\"><pre>FunctionTransformer(func=&lt;bound method OutliersHandling.handle_outliers of &lt;__main__.OutliersHandling object at 0x000001D8BCF71220&gt;&gt;)</pre></div></div></div></div></div></div><div class=\"sk-parallel-item\"><div class=\"sk-item\"><div class=\"sk-label-container\"><div class=\"sk-label sk-toggleable\"><input class=\"sk-toggleable__control sk-hidden--visually\" id=\"acce6c39-2e5e-4b3c-9cdf-df4253d6fd40\" type=\"checkbox\" ><label for=\"acce6c39-2e5e-4b3c-9cdf-df4253d6fd40\" class=\"sk-toggleable__label sk-toggleable__label-arrow\">miss_val</label><div class=\"sk-toggleable__content\"><pre>[&#x27;ethnicity&#x27;, &#x27;relation&#x27;]</pre></div></div></div><div class=\"sk-serial\"><div class=\"sk-item\"><div class=\"sk-estimator sk-toggleable\"><input class=\"sk-toggleable__control sk-hidden--visually\" id=\"cc7db81a-bffa-4288-96d6-da0429c29fe6\" type=\"checkbox\" ><label for=\"cc7db81a-bffa-4288-96d6-da0429c29fe6\" class=\"sk-toggleable__label sk-toggleable__label-arrow\">FunctionTransformer</label><div class=\"sk-toggleable__content\"><pre>FunctionTransformer(func=&lt;bound method MissingValHandling.handle_missing_values of &lt;__main__.MissingValHandling object at 0x000001D8BD7B1C70&gt;&gt;)</pre></div></div></div></div></div></div><div class=\"sk-parallel-item\"><div class=\"sk-item\"><div class=\"sk-label-container\"><div class=\"sk-label sk-toggleable\"><input class=\"sk-toggleable__control sk-hidden--visually\" id=\"9ad7a8d3-09da-4799-a50d-3614d770cc2f\" type=\"checkbox\" ><label for=\"9ad7a8d3-09da-4799-a50d-3614d770cc2f\" class=\"sk-toggleable__label sk-toggleable__label-arrow\">rare_contry</label><div class=\"sk-toggleable__content\"><pre>[&#x27;contry_of_res&#x27;]</pre></div></div></div><div class=\"sk-serial\"><div class=\"sk-item\"><div class=\"sk-estimator sk-toggleable\"><input class=\"sk-toggleable__control sk-hidden--visually\" id=\"5b946460-f3f0-4356-8855-b4ec80fb7c46\" type=\"checkbox\" ><label for=\"5b946460-f3f0-4356-8855-b4ec80fb7c46\" class=\"sk-toggleable__label sk-toggleable__label-arrow\">FunctionTransformer</label><div class=\"sk-toggleable__content\"><pre>FunctionTransformer(func=&lt;bound method MissingValHandling.merging_rare_counties of &lt;__main__.MissingValHandling object at 0x000001D8BD7B1C70&gt;&gt;)</pre></div></div></div></div></div></div><div class=\"sk-parallel-item\"><div class=\"sk-item\"><div class=\"sk-label-container\"><div class=\"sk-label sk-toggleable\"><input class=\"sk-toggleable__control sk-hidden--visually\" id=\"82dc7013-2299-40fe-b8b7-fef83ce05c78\" type=\"checkbox\" ><label for=\"82dc7013-2299-40fe-b8b7-fef83ce05c78\" class=\"sk-toggleable__label sk-toggleable__label-arrow\">remainder</label><div class=\"sk-toggleable__content\"><pre>[&#x27;A1_Score&#x27;, &#x27;A2_Score&#x27;, &#x27;A3_Score&#x27;, &#x27;A4_Score&#x27;, &#x27;A5_Score&#x27;, &#x27;A6_Score&#x27;, &#x27;A7_Score&#x27;, &#x27;A8_Score&#x27;, &#x27;A9_Score&#x27;, &#x27;A10_Score&#x27;, &#x27;gender&#x27;, &#x27;jaundice&#x27;, &#x27;austim&#x27;, &#x27;used_app_before&#x27;]</pre></div></div></div><div class=\"sk-serial\"><div class=\"sk-item\"><div class=\"sk-estimator sk-toggleable\"><input class=\"sk-toggleable__control sk-hidden--visually\" id=\"4a274556-b6fb-4ff9-b90e-fb1f243273a3\" type=\"checkbox\" ><label for=\"4a274556-b6fb-4ff9-b90e-fb1f243273a3\" class=\"sk-toggleable__label sk-toggleable__label-arrow\">passthrough</label><div class=\"sk-toggleable__content\"><pre>passthrough</pre></div></div></div></div></div></div></div></div><div class=\"sk-item sk-dashed-wrapped\"><div class=\"sk-label-container\"><div class=\"sk-label sk-toggleable\"><input class=\"sk-toggleable__control sk-hidden--visually\" id=\"fbbcbccf-d726-4cbc-96d5-5cdc705a9493\" type=\"checkbox\" ><label for=\"fbbcbccf-d726-4cbc-96d5-5cdc705a9493\" class=\"sk-toggleable__label sk-toggleable__label-arrow\">col_trans_2: ColumnTransformer</label><div class=\"sk-toggleable__content\"><pre>ColumnTransformer(remainder=&#x27;passthrough&#x27;,\n",
       "                  transformers=[(&#x27;scaler&#x27;, MinMaxScaler(), [0, 1]),\n",
       "                                (&#x27;encoder&#x27;,\n",
       "                                 OneHotEncoder(drop=&#x27;first&#x27;,\n",
       "                                               handle_unknown=&#x27;ignore&#x27;),\n",
       "                                 slice(2, 19, None))])</pre></div></div></div><div class=\"sk-parallel\"><div class=\"sk-parallel-item\"><div class=\"sk-item\"><div class=\"sk-label-container\"><div class=\"sk-label sk-toggleable\"><input class=\"sk-toggleable__control sk-hidden--visually\" id=\"0af24e97-3546-468f-9601-62be1434f93b\" type=\"checkbox\" ><label for=\"0af24e97-3546-468f-9601-62be1434f93b\" class=\"sk-toggleable__label sk-toggleable__label-arrow\">scaler</label><div class=\"sk-toggleable__content\"><pre>[0, 1]</pre></div></div></div><div class=\"sk-serial\"><div class=\"sk-item\"><div class=\"sk-estimator sk-toggleable\"><input class=\"sk-toggleable__control sk-hidden--visually\" id=\"6b19c889-dd49-45a7-b757-81592f6f3507\" type=\"checkbox\" ><label for=\"6b19c889-dd49-45a7-b757-81592f6f3507\" class=\"sk-toggleable__label sk-toggleable__label-arrow\">MinMaxScaler</label><div class=\"sk-toggleable__content\"><pre>MinMaxScaler()</pre></div></div></div></div></div></div><div class=\"sk-parallel-item\"><div class=\"sk-item\"><div class=\"sk-label-container\"><div class=\"sk-label sk-toggleable\"><input class=\"sk-toggleable__control sk-hidden--visually\" id=\"18f7c3e6-093f-4d40-bf49-943d1e444db9\" type=\"checkbox\" ><label for=\"18f7c3e6-093f-4d40-bf49-943d1e444db9\" class=\"sk-toggleable__label sk-toggleable__label-arrow\">encoder</label><div class=\"sk-toggleable__content\"><pre>slice(2, 19, None)</pre></div></div></div><div class=\"sk-serial\"><div class=\"sk-item\"><div class=\"sk-estimator sk-toggleable\"><input class=\"sk-toggleable__control sk-hidden--visually\" id=\"eee337d9-ec05-455e-933a-d42e2d81dc8b\" type=\"checkbox\" ><label for=\"eee337d9-ec05-455e-933a-d42e2d81dc8b\" class=\"sk-toggleable__label sk-toggleable__label-arrow\">OneHotEncoder</label><div class=\"sk-toggleable__content\"><pre>OneHotEncoder(drop=&#x27;first&#x27;, handle_unknown=&#x27;ignore&#x27;)</pre></div></div></div></div></div></div><div class=\"sk-parallel-item\"><div class=\"sk-item\"><div class=\"sk-label-container\"><div class=\"sk-label sk-toggleable\"><input class=\"sk-toggleable__control sk-hidden--visually\" id=\"0a2cfb3b-f032-45d1-be28-811a42e5c5aa\" type=\"checkbox\" ><label for=\"0a2cfb3b-f032-45d1-be28-811a42e5c5aa\" class=\"sk-toggleable__label sk-toggleable__label-arrow\">remainder</label><div class=\"sk-toggleable__content\"><pre>[]</pre></div></div></div><div class=\"sk-serial\"><div class=\"sk-item\"><div class=\"sk-estimator sk-toggleable\"><input class=\"sk-toggleable__control sk-hidden--visually\" id=\"1cb929e0-3c22-4081-a2a0-18ed6075d8b4\" type=\"checkbox\" ><label for=\"1cb929e0-3c22-4081-a2a0-18ed6075d8b4\" class=\"sk-toggleable__label sk-toggleable__label-arrow\">passthrough</label><div class=\"sk-toggleable__content\"><pre>passthrough</pre></div></div></div></div></div></div></div></div></div></div></div></div>"
      ],
      "text/plain": [
       "Pipeline(steps=[('col_trans_1',\n",
       "                 ColumnTransformer(remainder='passthrough',\n",
       "                                   transformers=[('outlier',\n",
       "                                                  FunctionTransformer(func=<bound method OutliersHandling.handle_outliers of <__main__.OutliersHandling object at 0x000001D8BCF71220>>),\n",
       "                                                  ['age', 'result']),\n",
       "                                                 ('miss_val',\n",
       "                                                  FunctionTransformer(func=<bound method MissingValHandling.handle_missing_values of <__main__.Missin...\n",
       "                                                 ('rare_contry',\n",
       "                                                  FunctionTransformer(func=<bound method MissingValHandling.merging_rare_counties of <__main__.MissingValHandling object at 0x000001D8BD7B1C70>>),\n",
       "                                                  ['contry_of_res'])])),\n",
       "                ('col_trans_2',\n",
       "                 ColumnTransformer(remainder='passthrough',\n",
       "                                   transformers=[('scaler', MinMaxScaler(),\n",
       "                                                  [0, 1]),\n",
       "                                                 ('encoder',\n",
       "                                                  OneHotEncoder(drop='first',\n",
       "                                                                handle_unknown='ignore'),\n",
       "                                                  slice(2, 19, None))]))])"
      ]
     },
     "execution_count": 18,
     "metadata": {},
     "output_type": "execute_result"
    }
   ],
   "source": [
    "pipe.fit(df_train)"
   ]
  },
  {
   "cell_type": "code",
   "execution_count": 19,
   "id": "efa41449",
   "metadata": {},
   "outputs": [],
   "source": [
    "# Transforming dataset using Pipeline and converting result into dataframe\n",
    "try:\n",
    "    df_new = pipe.transform(df_train)\n",
    "    df_new = pd.DataFrame(df_new.toarray())\n",
    "    df_new\n",
    "except Exception as err:\n",
    "    print('Issue will transforming training data using Pipeline')\n",
    "    print(err)"
   ]
  },
  {
   "cell_type": "code",
   "execution_count": 20,
   "id": "36fbae33",
   "metadata": {},
   "outputs": [],
   "source": [
    "#Pipeline generate feature names in interger format and integer naming of input is giving warning while Model trainig.\n",
    "#Therefore, convert name of features from int to string\n",
    "\n",
    "col_str_name = [str(col) for col in df_new.columns]\n",
    "df_new.columns = col_str_name\n"
   ]
  },
  {
   "cell_type": "markdown",
   "id": "ec3f0825",
   "metadata": {},
   "source": [
    "### Save Pipeline and preprocessed data"
   ]
  },
  {
   "cell_type": "code",
   "execution_count": 21,
   "id": "8f4f7eb6",
   "metadata": {},
   "outputs": [],
   "source": [
    "'''\n",
    "Saved new data into csv file after transforming data by appling preprocessing steps.\n",
    "This csv will be use by \"modelTraining.py\" scirpt to feed input to ML model and train different models. \n",
    "'''\n",
    "df_preprocessed = pd.concat([df_new,target],axis=1)\n",
    "\n",
    "filename = 'preprocessed_data.csv'\n",
    "\n",
    "df_preprocessed.to_csv(filename, index= False)"
   ]
  },
  {
   "cell_type": "code",
   "execution_count": 22,
   "id": "f9da0a67",
   "metadata": {},
   "outputs": [],
   "source": [
    "'''\n",
    "Saved pipeline as pkl; so it can be re-used in \"autism-app.py\" script while making predciton for user input.\n",
    "'''\n",
    "filename = 'autism_pipeline.pkl'\n",
    "pickle.dump(pipe, open(filename, 'wb'))\n"
   ]
  }
 ],
 "metadata": {
  "kernelspec": {
   "display_name": "Python 3 (ipykernel)",
   "language": "python",
   "name": "python3"
  },
  "language_info": {
   "codemirror_mode": {
    "name": "ipython",
    "version": 3
   },
   "file_extension": ".py",
   "mimetype": "text/x-python",
   "name": "python",
   "nbconvert_exporter": "python",
   "pygments_lexer": "ipython3",
   "version": "3.9.12"
  }
 },
 "nbformat": 4,
 "nbformat_minor": 5
}
